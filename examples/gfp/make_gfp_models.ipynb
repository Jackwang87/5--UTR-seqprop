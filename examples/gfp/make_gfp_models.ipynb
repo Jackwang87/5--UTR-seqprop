{
 "cells": [
  {
   "cell_type": "code",
   "execution_count": 1,
   "metadata": {},
   "outputs": [
    {
     "name": "stderr",
     "output_type": "stream",
     "text": [
      "Using TensorFlow backend.\n"
     ]
    }
   ],
   "source": [
    "import warnings\n",
    "warnings.filterwarnings(\"ignore\")\n",
    "\n",
    "import sys\n",
    "import itertools\n",
    "from keras.layers import Input, Dense, Reshape, Flatten\n",
    "from keras import layers, initializers\n",
    "from keras.models import Model, load_model\n",
    "import keras.backend as K\n",
    "import numpy as np\n",
    "from seqtools import SequenceTools as ST\n",
    "from gfp_gp import SequenceGP\n",
    "from util import AA, AA_IDX\n",
    "from util import build_vae\n",
    "from sklearn.model_selection import train_test_split, ShuffleSplit\n",
    "from keras.callbacks import EarlyStopping\n",
    "import matplotlib.pyplot as plt\n",
    "import pandas as pd\n",
    "from gan import WGAN\n",
    "from sklearn.gaussian_process import GaussianProcessRegressor\n",
    "from sklearn.gaussian_process.kernels import RBF, ConstantKernel as C\n",
    "import scipy.stats\n",
    "from scipy.stats import norm\n",
    "from scipy.optimize import minimize\n",
    "from keras.utils.generic_utils import get_custom_objects\n",
    "from util import one_hot_encode_aa, partition_data, get_balaji_predictions, get_samples\n",
    "from util import convert_idx_array_to_aas, build_pred_vae_model, get_experimental_X_y\n",
    "from util import get_gfp_X_y_aa\n",
    "from losses import neg_log_likelihood\n",
    "import json\n",
    "plt.rcParams['figure.dpi'] = 300\n",
    "class color:\n",
    "   PURPLE = '\\033[95m'\n",
    "   CYAN = '\\033[96m'\n",
    "   DARKCYAN = '\\033[36m'\n",
    "   BLUE = '\\033[94m'\n",
    "   GREEN = '\\033[92m'\n",
    "   YELLOW = '\\033[93m'\n",
    "   RED = '\\033[91m'\n",
    "   BOLD = '\\033[1m'\n",
    "   UNDERLINE = '\\033[4m'\n",
    "   END = '\\033[0m'\n",
    "\n",
    "import tensorflow as tf\n",
    "from keras.backend.tensorflow_backend import set_session\n",
    "\n",
    "def contain_tf_gpu_mem_usage() :\n",
    "    config = tf.ConfigProto()\n",
    "    config.gpu_options.allow_growth = True\n",
    "    sess = tf.Session(config=config)\n",
    "    set_session(sess)\n",
    "\n",
    "contain_tf_gpu_mem_usage()\n"
   ]
  },
  {
   "cell_type": "code",
   "execution_count": 2,
   "metadata": {},
   "outputs": [],
   "source": [
    "\n",
    "it = 0\n",
    "\n",
    "TRAIN_SIZE = 5000\n",
    "train_size_str = \"%ik\" % (TRAIN_SIZE/1000)\n",
    "num_models = [1, 5, 20][it]\n",
    "RANDOM_STATE = it + 1\n",
    "\n",
    "X_train, y_train, gt_train  = get_experimental_X_y(random_state=RANDOM_STATE, train_size=TRAIN_SIZE)\n"
   ]
  },
  {
   "cell_type": "code",
   "execution_count": 4,
   "metadata": {},
   "outputs": [
    {
     "name": "stdout",
     "output_type": "stream",
     "text": [
      "3.12042461331375\n",
      "3.142383237048391\n",
      "3.1558655520498666\n",
      "3.1798934456199195\n"
     ]
    }
   ],
   "source": [
    "\n",
    "print(np.percentile(y_train, 50))\n",
    "print(np.percentile(y_train, 80))\n",
    "print(np.percentile(y_train, 95))\n",
    "print(np.percentile(y_train, 100))\n"
   ]
  },
  {
   "cell_type": "code",
   "execution_count": 3,
   "metadata": {},
   "outputs": [],
   "source": [
    "def build_model(M):\n",
    "    x = Input(shape=(M, 20,))\n",
    "    y = Flatten()(x)\n",
    "    y = Dense(50, activation='elu')(y)\n",
    "    y = Dense(2)(y)\n",
    "    model = Model(inputs=x, outputs=y)\n",
    "    return model\n",
    "\n",
    "def evaluate_ground_truth(X_aa, ground_truth, save_file=None):\n",
    "    y_gt = ground_truth.predict(X_aa, print_every=100000)[:, 0]\n",
    "    if save_file is not None:\n",
    "        np.save(save_file, y_gt)\n",
    "        \n",
    "def train_and_save_oracles(X_train, y_train, n=10, suffix='', batch_size=100):\n",
    "    for i in range(n):\n",
    "        model = build_model(X_train.shape[1])\n",
    "        model.compile(optimizer='adam',\n",
    "                      loss=neg_log_likelihood,\n",
    "                      )\n",
    "        early_stop = EarlyStopping(monitor='val_loss', \n",
    "                                   min_delta=0, \n",
    "                                   patience=5, \n",
    "                                   verbose=1)\n",
    "\n",
    "        model.fit(X_train, y_train, \n",
    "                  epochs=100, \n",
    "                  batch_size=batch_size, \n",
    "                  validation_split=0.1, \n",
    "                  callbacks=[early_stop],\n",
    "                  verbose=2)\n",
    "        model.save(\"models/oracle_%i%s.h5\" % (i, suffix))"
   ]
  },
  {
   "cell_type": "code",
   "execution_count": 6,
   "metadata": {},
   "outputs": [],
   "source": [
    "def train_experimental_oracles():\n",
    "    TRAIN_SIZE = 5000\n",
    "    train_size_str = \"%ik\" % (TRAIN_SIZE/1000)\n",
    "    i = 1\n",
    "    num_models = [1, 5, 20]\n",
    "    for i in range(len(num_models)):\n",
    "        RANDOM_STATE = i+1\n",
    "        nm = num_models[i]\n",
    "        X_train, y_train, _  = get_experimental_X_y(random_state=RANDOM_STATE, train_size=TRAIN_SIZE)\n",
    "        suffix = '_%s_%i_%i' % (train_size_str, nm, RANDOM_STATE)\n",
    "        train_and_save_oracles(X_train, y_train, batch_size=10, n=nm, suffix=suffix)"
   ]
  },
  {
   "cell_type": "code",
   "execution_count": 7,
   "metadata": {},
   "outputs": [],
   "source": [
    "def train_experimental_vaes(i_list=[0, 2]):\n",
    "    TRAIN_SIZE = 5000\n",
    "    train_size_str = \"%ik\" % (TRAIN_SIZE/1000)\n",
    "    suffix = '_%s' % train_size_str\n",
    "    for i in i_list:\n",
    "        RANDOM_STATE = i + 1\n",
    "        X_train, _, _  = get_experimental_X_y(random_state=RANDOM_STATE, train_size=TRAIN_SIZE)\n",
    "        vae_0 = build_vae(latent_dim=20,\n",
    "                  n_tokens=20, \n",
    "                  seq_length=X_train.shape[1],\n",
    "                  enc1_units=50)\n",
    "        vae_0.fit([X_train], [X_train, np.zeros(X_train.shape[0])],\n",
    "                  epochs=100,\n",
    "                  batch_size=10,\n",
    "                  verbose=2)\n",
    "        vae_0.encoder_.save_weights(\"models/vae_0_encoder_weights%s_%i.h5\"% (suffix, RANDOM_STATE))\n",
    "        vae_0.decoder_.save_weights(\"models/vae_0_decoder_weights%s_%i.h5\"% (suffix, RANDOM_STATE))\n",
    "        vae_0.vae_.save_weights(\"models/vae_0_vae_weights%s_%i.h5\"% (suffix, RANDOM_STATE))"
   ]
  },
  {
   "cell_type": "code",
   "execution_count": null,
   "metadata": {
    "scrolled": true
   },
   "outputs": [],
   "source": [
    "train_experimental_oracles()\n",
    "train_experimental_vaes()"
   ]
  },
  {
   "cell_type": "code",
   "execution_count": null,
   "metadata": {},
   "outputs": [],
   "source": []
  }
 ],
 "metadata": {
  "kernelspec": {
   "display_name": "Environment (conda_tensorflow_p36)",
   "language": "python",
   "name": "conda_tensorflow_p36"
  },
  "language_info": {
   "codemirror_mode": {
    "name": "ipython",
    "version": 3
   },
   "file_extension": ".py",
   "mimetype": "text/x-python",
   "name": "python",
   "nbconvert_exporter": "python",
   "pygments_lexer": "ipython3",
   "version": "3.6.5"
  }
 },
 "nbformat": 4,
 "nbformat_minor": 2
}
