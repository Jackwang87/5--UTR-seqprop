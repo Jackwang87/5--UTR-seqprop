{
 "cells": [
  {
   "cell_type": "code",
   "execution_count": 1,
   "metadata": {},
   "outputs": [],
   "source": [
    "import pandas as pd\n",
    "import numpy as np\n"
   ]
  },
  {
   "cell_type": "code",
   "execution_count": 2,
   "metadata": {},
   "outputs": [
    {
     "name": "stdout",
     "output_type": "stream",
     "text": [
      "len(df_top) = 10000\n"
     ]
    }
   ],
   "source": [
    "#Get and filter dataset\n",
    "\n",
    "df = pd.read_csv('GSM3130435_egfp_unmod_1.csv')\n",
    "\n",
    "df = df.query(\"total_reads >= 1000\").copy().reset_index(drop=True)\n",
    "df = df.sort_values('rl', ascending=False).copy().reset_index(drop=True)\n",
    "\n",
    "df_top = df.iloc[:10000][['utr', 'rl']].copy().reset_index(drop=True)\n",
    "\n",
    "shuffle_index = np.arange(len(df_top))\n",
    "np.random.shuffle(shuffle_index)\n",
    "\n",
    "df_top = df_top.iloc[shuffle_index].copy().reset_index(drop=True)\n",
    "\n",
    "print(\"len(df_top) = \" + str(len(df_top)))\n"
   ]
  },
  {
   "cell_type": "code",
   "execution_count": 3,
   "metadata": {},
   "outputs": [],
   "source": [
    "#Store sorted subsample of data\n",
    "\n",
    "df_top.to_csv(\"optimus5_seqs_strong_high_readcount.csv\", index=False, sep=\"\\t\")\n"
   ]
  },
  {
   "cell_type": "code",
   "execution_count": null,
   "metadata": {},
   "outputs": [],
   "source": []
  }
 ],
 "metadata": {
  "kernelspec": {
   "display_name": "Environment (conda_tensorflow_p36)",
   "language": "python",
   "name": "conda_tensorflow_p36"
  },
  "language_info": {
   "codemirror_mode": {
    "name": "ipython",
    "version": 3
   },
   "file_extension": ".py",
   "mimetype": "text/x-python",
   "name": "python",
   "nbconvert_exporter": "python",
   "pygments_lexer": "ipython3",
   "version": "3.6.5"
  }
 },
 "nbformat": 4,
 "nbformat_minor": 2
}
