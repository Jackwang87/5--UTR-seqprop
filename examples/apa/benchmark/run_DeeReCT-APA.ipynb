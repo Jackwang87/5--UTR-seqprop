{
 "cells": [
  {
   "cell_type": "code",
   "execution_count": 1,
   "metadata": {},
   "outputs": [],
   "source": [
    "import os\n",
    "os.environ['CUDA_VISIBLE_DEVICES']=\"0\"\n",
    "import pandas as pd\n",
    "import numpy as np\n",
    "from collections import defaultdict\n",
    "from itertools import combinations\n",
    "from itertools import chain\n",
    "from collections import namedtuple\n",
    "import pickle\n",
    "import os.path\n",
    "import shutil\n",
    "import inspect \n",
    "from glob import glob\n",
    "import torch\n",
    "import torch.nn as nn\n",
    "import torch.nn.functional as F\n",
    "import torch.optim as optim\n",
    "import torch.utils\n",
    "import torch.utils.data\n",
    "\n",
    "from pytorch_utils import *\n",
    "from pas_utils import *\n"
   ]
  },
  {
   "cell_type": "code",
   "execution_count": 2,
   "metadata": {},
   "outputs": [],
   "source": [
    "MODEL_DIR=\"../../../../DeeReCT-APA-repo/pytorch_models\"\n",
    "PROCESSED_DIR=\"../../../../DeeReCT-APA-repo/APA_ML/processed\"\n",
    "\n",
    "params={\n",
    "    \"batch_size\":32,\n",
    "    \"lr\":1e-3,\n",
    "    \"beta\":1e-3,\n",
    "    \"net_type\":\"Multi-Conv-Net\",    \n",
    "    \"conv1d_kernel_size\":12,\n",
    "\n",
    "    \"conv1d_out_dim_1\":40,\n",
    "    \"pool_size_1\":3,\n",
    "    \"conv1d_out_dim_2\":40,\n",
    "    \"pool_size_2\":4,\n",
    "\n",
    "    \"linear1_dim\":200,\n",
    "    \"seq_len\":455,\n",
    "    \"lstm_output_size\":100,\n",
    "    \"device\":\"cuda\" if torch.cuda.is_available() else \"cpu\",\n",
    "    \"parental_model_file\":os.path.join(MODEL_DIR,\"parental_model_bl-multi.pt\"),\n",
    "    \"f1_model_file\":os.path.join(MODEL_DIR,\"f1_model_from_bl-multi.pt\"),\n",
    "    \"dropout_rate\":0.7,\n",
    "    \"fold\":5\n",
    "}"
   ]
  },
  {
   "cell_type": "code",
   "execution_count": 3,
   "metadata": {},
   "outputs": [
    {
     "data": {
      "text/plain": [
       "APAModel(\n",
       "  (conv1d_1): Conv1d(4, 40, kernel_size=(12,), stride=(1,))\n",
       "  (batchnorm_1): BatchNorm1d(40, eps=1e-05, momentum=0.1, affine=True, track_running_stats=True)\n",
       "  (conv1d_2): Conv1d(40, 40, kernel_size=(12,), stride=(1,))\n",
       "  (batchnorm_2): BatchNorm1d(40, eps=1e-05, momentum=0.1, affine=True, track_running_stats=True)\n",
       "  (linear1): Linear(in_features=1360, out_features=200, bias=True)\n",
       "  (lstm): LSTM(200, 50, batch_first=True, bidirectional=True)\n",
       "  (dropout): Dropout(p=0.7, inplace=False)\n",
       "  (linear2): Linear(in_features=100, out_features=1, bias=True)\n",
       ")"
      ]
     },
     "execution_count": 3,
     "metadata": {},
     "output_type": "execute_result"
    }
   ],
   "source": [
    "\n",
    "# create model\n",
    "model=APAModel(params)\n",
    "model.to(params[\"device\"])\n"
   ]
  },
  {
   "cell_type": "code",
   "execution_count": 4,
   "metadata": {},
   "outputs": [
    {
     "name": "stdout",
     "output_type": "stream",
     "text": [
      "reload the best model and test\n"
     ]
    },
    {
     "data": {
      "text/plain": [
       "<All keys matched successfully>"
      ]
     },
     "execution_count": 4,
     "metadata": {},
     "output_type": "execute_result"
    }
   ],
   "source": [
    "\n",
    "print(\"reload the best model and test\")\n",
    "model.load_state_dict(torch.load(params[\"parental_model_file\"]))\n"
   ]
  },
  {
   "cell_type": "code",
   "execution_count": 9,
   "metadata": {},
   "outputs": [],
   "source": [
    "\n",
    "def predict(logits, pas_numbers):\n",
    "    for i in range(len(pas_numbers)):\n",
    "        logits[i, pas_numbers[i]:] = -1e32\n",
    "    softmax = F.softmax(logits, -1)\n",
    "    return softmax\n",
    "\n",
    "def model_predict(model, data_set, params, softmax=True):\n",
    "    with torch.no_grad():\n",
    "        model.eval()\n",
    "        #data_set.set_shuffle(False)\n",
    "        predictions = []\n",
    "        for local_batch, local_pas_numbers in data_set:\n",
    "            local_batch = (local_batch).to(params[\"device\"])\n",
    "            local_pas_numbers = (local_pas_numbers).to(params[\"device\"])\n",
    "            local_outputs = model(local_batch, local_pas_numbers)\n",
    "            if softmax:\n",
    "                local_pred = predict(local_outputs, local_pas_numbers)\n",
    "            else:\n",
    "                local_pred = local_outputs\n",
    "            for i in range(len(local_pas_numbers)):\n",
    "                predictions += local_pred[i][:local_pas_numbers[i]].tolist()\n",
    "\n",
    "        predictions = np.array(predictions)\n",
    "        return predictions\n"
   ]
  },
  {
   "cell_type": "code",
   "execution_count": 10,
   "metadata": {},
   "outputs": [],
   "source": [
    "#Prediction configuration\n",
    "\n",
    "up_pad = \"CTTTTGCCAGCTGCTAGGCAATGAAAGATTCAAACAAGCTGCTCATTTTCATATCTGTAGTTACACATTCCATAGGAGCAAAGGGATTTGTGATCATCCATGAGCCATGATTGCATGTTACATTTTTCTGCCTCCATCTTATTTTTATGCTGATAGAAGCA\"\n",
    "dn_pad = \"ACTCAAAGTGTTTCTAGGGGTTAAAAAGGTCCCATCCAGAGAGGATAGAGGCAGTGGTCTTCTGTCCCACCACCTGAGACCCTTGGCTACGTGAACTGATAAGTAAATGATATTTTACTTCATAAAGACTCATTCAACTTTTAGAAATTCTAGAAAATAATTCTTACTTGGATTAGGGTCTTCAGTGTGTACCATGATGGTTT\"\n",
    "\n",
    "seq_dist = \"CTTTTGCCAGCTGCTAGGCAATGAAAGATTCAAACAAGCTGCTCATTTTCATATCTGTAGTTACACATTCCATAGGAGCAAAGGGATTTGTGATCATCCATGAGCCATGATTGCATGTTACATTTTTCTGCCTCCATCTTATTTTTATGCTGATAGAAGCACAGACTGGGTTACTAATTTATCTGATTTCACTATTTCTTAACACAAATAAAGTTCTATTTTTATTAACTACCAGTGTCGGTTTCTTTCTTTACTCAAAGTGTTTCTAGGGGTTAAAAAGGTCCCATCCAGAGAGGATAGAGGCAGTGGTCTTCTGTCCCACCACCTGAGACCCTTGGCTACGTGAACTGATAAGTAAATGATATTTTACTTCATAAAGACTCATTCAACTTTTAGAAATTCTAGAAAATAATTCTTACTTGGATTAGGGTCTTCAGTGTGTACCATGATGGTTT\"\n",
    "\n",
    "n_signals = 2\n"
   ]
  },
  {
   "cell_type": "code",
   "execution_count": 15,
   "metadata": {},
   "outputs": [],
   "source": [
    "\n",
    "file_name = \"sampled_in_balaji_vae_balaji_combined_traj\"\n",
    "\n",
    "y_preds = []\n",
    "\n",
    "with open(file_name + \".fa\", \"rt\") as f :\n",
    "    for line in f.readlines() :\n",
    "        if line[0] != \">\" :\n",
    "            \n",
    "            pas = line.strip()[5:5+91]\n",
    "            \n",
    "            seq_prox = up_pad + pas + dn_pad\n",
    "\n",
    "            x_test = np.concatenate([\n",
    "                np.expand_dims(np.expand_dims(dna_one_hot(seq_prox), axis=0), axis=0),\n",
    "                np.expand_dims(np.expand_dims(dna_one_hot(seq_dist), axis=0), axis=0)\n",
    "            ], axis=1)\n",
    "\n",
    "            s_test = np.array([n_signals], dtype=np.int)\n",
    "\n",
    "            data_set = [[\n",
    "                torch.FloatTensor(x_test),\n",
    "                torch.LongTensor(s_test)\n",
    "            ]]\n",
    "            \n",
    "            y_preds.append(model_predict(model, data_set, params, softmax=True)[0])\n",
    "\n",
    "y_preds = np.array(y_preds)\n",
    "\n",
    "np.save(file_name + \"_DeeReCT-APA\", y_preds)\n"
   ]
  },
  {
   "cell_type": "code",
   "execution_count": null,
   "metadata": {},
   "outputs": [],
   "source": []
  }
 ],
 "metadata": {
  "kernelspec": {
   "display_name": "Environment (conda_pytorch_p36_fresh)",
   "language": "python",
   "name": "conda_pytorch_p36_fresh"
  },
  "language_info": {
   "codemirror_mode": {
    "name": "ipython",
    "version": 3
   },
   "file_extension": ".py",
   "mimetype": "text/x-python",
   "name": "python",
   "nbconvert_exporter": "python",
   "pygments_lexer": "ipython3",
   "version": "3.6.9"
  }
 },
 "nbformat": 4,
 "nbformat_minor": 2
}
